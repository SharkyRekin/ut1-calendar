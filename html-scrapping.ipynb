{
 "cells": [
  {
   "cell_type": "code",
   "execution_count": 2,
   "metadata": {
    "collapsed": true
   },
   "outputs": [],
   "source": [
    "import requests\n",
    "from requests.auth import HTTPBasicAuth, HTTPDigestAuth\n",
    "from selenium import webdriver\n",
    "from icalendar import Calendar, Event, vCalAddress, vText\n",
    "import pytz\n",
    "from datetime import datetime\n",
    "import os\n",
    "from pathlib import Path\n",
    "import re\n",
    "import configparser"
   ]
  },
  {
   "cell_type": "code",
   "execution_count": 9,
   "outputs": [
    {
     "data": {
      "text/plain": "'22104597'"
     },
     "execution_count": 9,
     "metadata": {},
     "output_type": "execute_result"
    }
   ],
   "source": [
    "config = configparser.ConfigParser()\n",
    "config.read('config.ini')"
   ],
   "metadata": {
    "collapsed": false,
    "pycharm": {
     "name": "#%%\n"
    }
   }
  },
  {
   "cell_type": "code",
   "execution_count": 4,
   "outputs": [],
   "source": [
    "DRIVER_PATH = 'msedgedriver.exe'\n",
    "driver = webdriver.Edge(executable_path=DRIVER_PATH)\n",
    "driver.implicitly_wait(10)\n",
    "driver.get('https://cas.ut-capitole.fr/cas/login?service=https%3A%2F%2Fade-production.ut-capitole.fr%2Fdirect%2Fmyplanning.jsp')"
   ],
   "metadata": {
    "collapsed": false,
    "pycharm": {
     "name": "#%%\n"
    }
   }
  },
  {
   "cell_type": "code",
   "execution_count": 5,
   "outputs": [],
   "source": [
    "user = driver.find_element_by_id(\"username\")\n",
    "user.send_keys(config.get('default', 'username'))\n",
    "pas = driver.find_element_by_id(\"password\")\n",
    "pas.send_keys(config.get('default', 'password'))\n",
    "login = driver.find_element_by_id(\"connexion\").click()"
   ],
   "metadata": {
    "collapsed": false,
    "pycharm": {
     "name": "#%%\n"
    }
   }
  },
  {
   "cell_type": "code",
   "execution_count": 35,
   "outputs": [],
   "source": [
    "legend = driver.find_elements_by_class_name(\"slot\")\n",
    "planning = driver.find_element_by_id(\"Planning\")\n",
    "planning_div = planning.find_elements_by_xpath(\"./*\")\n",
    "planning_data = planning.find_elements_by_xpath(\"//div[@aria-owns='Planning']\")"
   ],
   "metadata": {
    "collapsed": false,
    "pycharm": {
     "name": "#%%\n"
    }
   }
  },
  {
   "cell_type": "code",
   "execution_count": 57,
   "outputs": [],
   "source": [
    "hours = {}\n",
    "for l in legend:\n",
    "    heure = l.text[:-1] if len(l.text) > 5 else l.text\n",
    "    top = l.get_attribute(\"style\").split(\"; \")[-1]\n",
    "    top_nb = int(re.findall(r'\\d+', top)[0])+8\n",
    "    hours[top_nb] = heure"
   ],
   "metadata": {
    "collapsed": false,
    "pycharm": {
     "name": "#%%\n"
    }
   }
  },
  {
   "cell_type": "code",
   "execution_count": 85,
   "outputs": [
    {
     "name": "stdout",
     "output_type": "stream",
     "text": [
      "2022-03-14\n",
      "['CM Gouvernance des SI', 'MH003', 'PELFRESNE RENE', 'IMMBA1CM01', 'IMMBB1CM01']\n",
      "['09', '30']\n",
      "2022-03-14\n",
      "['TD Intégration de données', 'MH003', 'RAVAT FRANCK', 'IMMBA1TD01', 'IMMBB1TD01']\n",
      "['14', '00']\n",
      "2022-03-14\n",
      "['Projet', 'MH003', 'IMMBA1CM01', 'IMMBB1CM01']\n",
      "['15', '00']\n",
      "2022-03-15\n",
      "['CM Intégration de données', 'ME402', 'SONG JIEFU', 'IMMBA1CM01', 'IMMBB1CM01']\n",
      "['09', '30']\n",
      "2022-03-15\n",
      "['CM Modélisation du SI', 'MH003', 'ZURFLUH GILLES', 'IMMBA1CM01', 'IMMBB1CM01']\n",
      "['14', '00']\n",
      "2022-03-16\n",
      "['Projet', 'IMMBA1CM01', 'IMMBB1CM01']\n",
      "['09', '30']\n",
      "2022-03-16\n",
      "['CM Modélisation du SI', 'MH003', 'ZURFLUH GILLES', 'IMMBA1CM01', 'IMMBB1CM01']\n",
      "['14', '00']\n",
      "2022-03-17\n",
      "['Projet', 'ME407', 'IMMBA1CM01', 'IMMBB1CM01']\n",
      "['09', '30']\n",
      "2022-03-17\n",
      "['TD Intégration de données', 'ME407', 'SONG JIEFU', 'IMMBA1TD01', 'IMMBB1TD01']\n",
      "['14', '00']\n",
      "2022-03-18\n",
      "['CM Gouvernance des SI', 'MF103', 'PELFRESNE RENE', 'IMMBA1CM01', 'IMMBB1CM01']\n",
      "['09', '30']\n",
      "2022-03-18\n",
      "['CM Gouvernance des SI', 'MF105', 'PELFRESNE RENE', 'IMMBA1CM01', 'IMMBB1CM01']\n",
      "['11', '00']\n",
      "2022-03-18\n",
      "['CM Gestion de projet', 'MF103', 'BLONDEAU GERALDINE', 'IMMBA1CM01', 'IMMBB1CM01']\n",
      "['14', '00']\n"
     ]
    }
   ],
   "source": [
    "from datetime import date, timedelta\n",
    "\n",
    "cal = Calendar()\n",
    "today = date.today()\n",
    "current = today - timedelta(days=today.weekday())\n",
    "current_top = 0\n",
    "\n",
    "for div, data in zip(planning_div, planning_data):\n",
    "    top = div.get_attribute(\"style\").split(\"; \")[-1]\n",
    "    top_nb = int(re.findall(r'\\d+', top)[0])\n",
    "    list_data = [x.strip() for x in list(filter(lambda x: x.replace(\" \", \"\") != \"\", data.get_attribute(\"aria-label\").split('null')))]\n",
    "\n",
    "    if current_top > top_nb:\n",
    "        current = current + timedelta(days=1)\n",
    "    current_top = top_nb\n",
    "\n",
    "    print(current)\n",
    "    print(list_data)\n",
    "    year = current.year\n",
    "    month = current.month\n",
    "    day = current.day\n",
    "\n",
    "    hour_class = hours[top_nb].split(\"h\")\n",
    "    print(hour_class)\n",
    "    event = Event()\n",
    "    event.add('summary', list_data[0])\n",
    "    event.add('dtstart', datetime(year, month, day, int(hour_class[0]), int(hour_class[1])))\n",
    "    event.add('dtend', datetime(year, month, day, int(hour_class[0])+3, int(hour_class[1])))\n",
    "\n",
    "    if len(list_data) in [4, 5]:\n",
    "        event['location'] = vText(list_data[1])\n",
    "    else:\n",
    "        event['location'] = vText('Inconnu')\n",
    "    # Adding events to calendar\n",
    "    cal.add_component(event)"
   ],
   "metadata": {
    "collapsed": false,
    "pycharm": {
     "name": "#%%\n"
    }
   }
  },
  {
   "cell_type": "code",
   "execution_count": 86,
   "outputs": [],
   "source": [
    "f = open(os.path.join(\"./\", 'example.ics'), 'wb')\n",
    "f.write(cal.to_ical())\n",
    "f.close()"
   ],
   "metadata": {
    "collapsed": false,
    "pycharm": {
     "name": "#%%\n"
    }
   }
  }
 ],
 "metadata": {
  "kernelspec": {
   "display_name": "Python 3",
   "language": "python",
   "name": "python3"
  },
  "language_info": {
   "codemirror_mode": {
    "name": "ipython",
    "version": 2
   },
   "file_extension": ".py",
   "mimetype": "text/x-python",
   "name": "python",
   "nbconvert_exporter": "python",
   "pygments_lexer": "ipython2",
   "version": "2.7.6"
  }
 },
 "nbformat": 4,
 "nbformat_minor": 0
}