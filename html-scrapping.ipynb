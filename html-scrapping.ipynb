{
 "cells": [
  {
   "cell_type": "code",
   "execution_count": 111,
   "metadata": {
    "collapsed": true
   },
   "outputs": [],
   "source": [
    "from selenium import webdriver\n",
    "from selenium.webdriver.chrome.options import Options\n",
    "from icalendar import Calendar, Event, vCalAddress, vText\n",
    "from datetime import datetime, date, timedelta\n",
    "import os\n",
    "import re\n",
    "import configparser"
   ]
  },
  {
   "cell_type": "code",
   "execution_count": 112,
   "outputs": [
    {
     "data": {
      "text/plain": "\"\\nconfig = configparser.ConfigParser()\\n\\nconfig['default'] = {\\n    'username': '',\\n    'password': ''\\n}\\n\\nwith open('config.ini', 'w') as configfile:    # save\\n    config.write(configfile)\\n\""
     },
     "execution_count": 112,
     "metadata": {},
     "output_type": "execute_result"
    }
   ],
   "source": [
    "# Use this to create a config file with you login and password for ut1-capitol\n",
    "\"\"\"\n",
    "config = configparser.ConfigParser()\n",
    "\n",
    "config['default'] = {\n",
    "    'username': '',\n",
    "    'password': ''\n",
    "}\n",
    "\n",
    "with open('config.ini', 'w') as configfile:    # save\n",
    "    config.write(configfile)\n",
    "\"\"\""
   ],
   "metadata": {
    "collapsed": false,
    "pycharm": {
     "name": "#%%\n"
    }
   }
  },
  {
   "cell_type": "code",
   "execution_count": 113,
   "outputs": [
    {
     "data": {
      "text/plain": "['config.ini']"
     },
     "execution_count": 113,
     "metadata": {},
     "output_type": "execute_result"
    }
   ],
   "source": [
    "config = configparser.ConfigParser()\n",
    "config.read('config.ini')"
   ],
   "metadata": {
    "collapsed": false,
    "pycharm": {
     "name": "#%%\n"
    }
   }
  },
  {
   "cell_type": "code",
   "execution_count": 114,
   "outputs": [],
   "source": [
    "options = Options()\n",
    "options.add_argument(\"--headless\")\n",
    "options.binary_location = 'chrome/chrome.exe'\n",
    "options.add_argument(\"--window-size=1920,1080\")\n",
    "\n",
    "DRIVER_PATH = 'chromedriver.exe'\n",
    "driver = webdriver.Chrome(executable_path=DRIVER_PATH, options=options)\n",
    "driver.implicitly_wait(10)\n",
    "driver.get('https://cas.ut-capitole.fr/cas/login?service=https%3A%2F%2Fade-production.ut-capitole.fr%2Fdirect%2Fmyplanning.jsp')"
   ],
   "metadata": {
    "collapsed": false,
    "pycharm": {
     "name": "#%%\n"
    }
   }
  },
  {
   "cell_type": "code",
   "execution_count": 115,
   "outputs": [],
   "source": [
    "user = driver.find_element_by_id(\"username\")\n",
    "user.send_keys(config.get('default', 'username'))\n",
    "pas = driver.find_element_by_id(\"password\")\n",
    "pas.send_keys(config.get('default', 'password'))\n",
    "login = driver.find_element_by_id(\"connexion\").click()"
   ],
   "metadata": {
    "collapsed": false,
    "pycharm": {
     "name": "#%%\n"
    }
   }
  },
  {
   "cell_type": "code",
   "execution_count": 116,
   "outputs": [],
   "source": [
    "hours = {}\n",
    "legend = driver.find_elements_by_class_name(\"slot\")\n",
    "for l in legend:\n",
    "    heure = l.text[:-1] if len(l.text) > 5 else l.text\n",
    "    top = l.get_attribute(\"style\").split(\"; \")[-1]\n",
    "    top_nb = int(re.findall(r'\\d+', top)[0])+8\n",
    "    hours[top_nb] = heure"
   ],
   "metadata": {
    "collapsed": false,
    "pycharm": {
     "name": "#%%\n"
    }
   }
  },
  {
   "cell_type": "code",
   "execution_count": 117,
   "outputs": [],
   "source": [
    "def get_n_weeks(n=4):\n",
    "    month_french = {\n",
    "        'January': 'janvier',\n",
    "        'February': 'février',\n",
    "        'March': 'mars',\n",
    "        'April': 'avril',\n",
    "        'May': 'mai',\n",
    "        'June': 'juin',\n",
    "        'July': 'juillet',\n",
    "        'August': 'août',\n",
    "        'September': 'septembre',\n",
    "        'October': 'octobre',\n",
    "        'November': 'novembre',\n",
    "        'December': 'décembre'\n",
    "    }\n",
    "    today = date.today()\n",
    "    week = today - timedelta(days=today.weekday())\n",
    "    n_weeks = []\n",
    "\n",
    "    for _ in range(n):\n",
    "        next_day = week.strftime('%d')\n",
    "        next_month = month_french[week.strftime('%B')]\n",
    "        next_year = week.strftime('%y')\n",
    "        n_weeks.append((f'({week.isocalendar().week}){next_day} {next_month} {next_year}', week))\n",
    "        week+=timedelta(days=7)\n",
    "\n",
    "    return n_weeks"
   ],
   "metadata": {
    "collapsed": false,
    "pycharm": {
     "name": "#%%\n"
    }
   }
  },
  {
   "cell_type": "code",
   "execution_count": 118,
   "outputs": [],
   "source": [
    "from time import sleep\n",
    "\n",
    "cal = Calendar()\n",
    "n_weeks = get_n_weeks()\n",
    "\n",
    "duration = {\n",
    "    32: [1, 0],\n",
    "    56: [1, 0],\n",
    "    57: [1, 0],\n",
    "    84: [1, 30],\n",
    "    63: [2, 0],\n",
    "    66: [2, 0],\n",
    "    112: [2, 0],\n",
    "    94: [3, 0],\n",
    "    168: [3, 0],\n",
    "    167: [3, 0],\n",
    "    499: [9, 0]\n",
    "}\n",
    "\n",
    "\n",
    "for i in range(4):\n",
    "    current = n_weeks[i][1]\n",
    "    current_top = 0\n",
    "    button_week = driver.find_element_by_xpath(f\"//button[text()='{n_weeks[i][0]}']\")\n",
    "    button_week.click()\n",
    "    sleep(10)\n",
    "    planning = driver.find_element_by_id(\"Planning\")\n",
    "    planning_div = planning.find_elements_by_xpath(\"./*\")\n",
    "    planning_data = planning.find_elements_by_xpath(\"//div[@aria-owns='Planning']\")\n",
    "\n",
    "\n",
    "\n",
    "    for div, data in zip(planning_div, planning_data):\n",
    "        height_tag = div.find_element_by_tag_name(\"table\").get_attribute(\"style\").split(\"; \")[-1]\n",
    "        duration_tag = int(re.findall(r'\\d+', height_tag)[0])\n",
    "        real_duration = duration[duration_tag]\n",
    "\n",
    "        top = div.get_attribute(\"style\").split(\"; \")[-1]\n",
    "        top_nb = int(re.findall(r'\\d+', top)[0])\n",
    "        list_data = [x.strip() for x in list(filter(lambda x: x.replace(\" \", \"\") != \"\", data.get_attribute(\"aria-label\").split('null')))]\n",
    "\n",
    "        if current_top >= top_nb:\n",
    "            current+=timedelta(days=1)\n",
    "        current_top = top_nb\n",
    "\n",
    "        year = current.year\n",
    "        month = current.month\n",
    "        day = current.day\n",
    "\n",
    "        hour_class = hours[top_nb].split(\"h\")\n",
    "        event = Event()\n",
    "        event.add('summary', list_data[0])\n",
    "        event.add('dtstart', datetime(year, month, day, int(hour_class[0]), int(hour_class[1])))\n",
    "\n",
    "        duration_mins = int(hour_class[1])+real_duration[1]\n",
    "        duration_hours = int(hour_class[0])+real_duration[0]\n",
    "\n",
    "        if duration_mins == 60:\n",
    "            duration_hours+=1\n",
    "            duration_mins=0\n",
    "\n",
    "        event.add('dtend', datetime(year, month, day, duration_hours, duration_mins))\n",
    "\n",
    "        event['location'] = vText(list_data[1]if len(list_data) in [4, 5] else 'Inconnu')\n",
    "        cal.add_component(event)"
   ],
   "metadata": {
    "collapsed": false,
    "pycharm": {
     "name": "#%%\n"
    }
   }
  },
  {
   "cell_type": "code",
   "execution_count": 119,
   "outputs": [],
   "source": [
    "driver.quit()"
   ],
   "metadata": {
    "collapsed": false,
    "pycharm": {
     "name": "#%%\n"
    }
   }
  },
  {
   "cell_type": "code",
   "execution_count": 120,
   "outputs": [],
   "source": [
    "f = open(os.path.join(\"./\", 'example.ics'), 'wb')\n",
    "f.write(cal.to_ical())\n",
    "f.close()"
   ],
   "metadata": {
    "collapsed": false,
    "pycharm": {
     "name": "#%%\n"
    }
   }
  }
 ],
 "metadata": {
  "kernelspec": {
   "display_name": "Python 3",
   "language": "python",
   "name": "python3"
  },
  "language_info": {
   "codemirror_mode": {
    "name": "ipython",
    "version": 2
   },
   "file_extension": ".py",
   "mimetype": "text/x-python",
   "name": "python",
   "nbconvert_exporter": "python",
   "pygments_lexer": "ipython2",
   "version": "2.7.6"
  }
 },
 "nbformat": 4,
 "nbformat_minor": 0
}