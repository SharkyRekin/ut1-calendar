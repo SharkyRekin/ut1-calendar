{
 "cells": [
  {
   "cell_type": "code",
   "execution_count": 55,
   "metadata": {
    "collapsed": true
   },
   "outputs": [],
   "source": [
    "from selenium import webdriver\n",
    "from selenium.webdriver.edge.options import Options\n",
    "from icalendar import Calendar, Event, vCalAddress, vText\n",
    "from datetime import datetime, date, timedelta\n",
    "import os\n",
    "import re\n",
    "import configparser"
   ]
  },
  {
   "cell_type": "code",
   "execution_count": 3,
   "outputs": [
    {
     "data": {
      "text/plain": "['config.ini']"
     },
     "execution_count": 3,
     "metadata": {},
     "output_type": "execute_result"
    }
   ],
   "source": [
    "config = configparser.ConfigParser()\n",
    "config.read('config.ini')"
   ],
   "metadata": {
    "collapsed": false,
    "pycharm": {
     "name": "#%%\n"
    }
   }
  },
  {
   "cell_type": "code",
   "execution_count": 61,
   "outputs": [],
   "source": [
    "DRIVER_PATH = 'msedgedriver.exe'\n",
    "option = Options()\n",
    "option.headless = True\n",
    "driver = webdriver.Edge(executable_path=DRIVER_PATH)\n",
    "driver.set_window_size(1920, 1080)\n",
    "driver.implicitly_wait(10)\n",
    "driver.get('https://cas.ut-capitole.fr/cas/login?service=https%3A%2F%2Fade-production.ut-capitole.fr%2Fdirect%2Fmyplanning.jsp')"
   ],
   "metadata": {
    "collapsed": false,
    "pycharm": {
     "name": "#%%\n"
    }
   }
  },
  {
   "cell_type": "code",
   "execution_count": 62,
   "outputs": [],
   "source": [
    "user = driver.find_element_by_id(\"username\")\n",
    "user.send_keys(config.get('default', 'username'))\n",
    "pas = driver.find_element_by_id(\"password\")\n",
    "pas.send_keys(config.get('default', 'password'))\n",
    "login = driver.find_element_by_id(\"connexion\").click()"
   ],
   "metadata": {
    "collapsed": false,
    "pycharm": {
     "name": "#%%\n"
    }
   }
  },
  {
   "cell_type": "code",
   "execution_count": 63,
   "outputs": [],
   "source": [
    "hours = {}\n",
    "legend = driver.find_elements_by_class_name(\"slot\")\n",
    "for l in legend:\n",
    "    heure = l.text[:-1] if len(l.text) > 5 else l.text\n",
    "    top = l.get_attribute(\"style\").split(\"; \")[-1]\n",
    "    top_nb = int(re.findall(r'\\d+', top)[0])+8\n",
    "    hours[top_nb] = heure"
   ],
   "metadata": {
    "collapsed": false,
    "pycharm": {
     "name": "#%%\n"
    }
   }
  },
  {
   "cell_type": "code",
   "execution_count": 64,
   "outputs": [],
   "source": [
    "month_french = {\n",
    "    'January': 'janvier',\n",
    "    'February': 'février',\n",
    "    'March': 'mars',\n",
    "    'April': 'avril',\n",
    "    'May': 'mai',\n",
    "    'June': 'juin',\n",
    "    'July': 'juillet',\n",
    "    'August': 'août',\n",
    "    'September': 'septembre',\n",
    "    'October': 'octobre',\n",
    "    'November': 'novembre',\n",
    "    'December': 'décembre'\n",
    "}"
   ],
   "metadata": {
    "collapsed": false,
    "pycharm": {
     "name": "#%%\n"
    }
   }
  },
  {
   "cell_type": "code",
   "execution_count": 65,
   "outputs": [
    {
     "ename": "StaleElementReferenceException",
     "evalue": "Message: stale element reference: element is not attached to the page document\n  (Session info: MicrosoftEdge=99.0.1150.46)\n",
     "output_type": "error",
     "traceback": [
      "\u001B[1;31m---------------------------------------------------------------------------\u001B[0m",
      "\u001B[1;31mStaleElementReferenceException\u001B[0m            Traceback (most recent call last)",
      "\u001B[1;32m~\\AppData\\Local\\Temp/ipykernel_1712/995403565.py\u001B[0m in \u001B[0;36m<module>\u001B[1;34m\u001B[0m\n\u001B[0;32m     18\u001B[0m \u001B[1;33m\u001B[0m\u001B[0m\n\u001B[0;32m     19\u001B[0m     \u001B[1;32mfor\u001B[0m \u001B[0mdiv\u001B[0m\u001B[1;33m,\u001B[0m \u001B[0mdata\u001B[0m \u001B[1;32min\u001B[0m \u001B[0mzip\u001B[0m\u001B[1;33m(\u001B[0m\u001B[0mplanning_div\u001B[0m\u001B[1;33m,\u001B[0m \u001B[0mplanning_data\u001B[0m\u001B[1;33m)\u001B[0m\u001B[1;33m:\u001B[0m\u001B[1;33m\u001B[0m\u001B[1;33m\u001B[0m\u001B[0m\n\u001B[1;32m---> 20\u001B[1;33m         \u001B[0mheigh_tag\u001B[0m \u001B[1;33m=\u001B[0m \u001B[0mdiv\u001B[0m\u001B[1;33m.\u001B[0m\u001B[0mfind_element_by_tag_name\u001B[0m\u001B[1;33m(\u001B[0m\u001B[1;34m\"table\"\u001B[0m\u001B[1;33m)\u001B[0m\u001B[1;33m.\u001B[0m\u001B[0mget_attribute\u001B[0m\u001B[1;33m(\u001B[0m\u001B[1;34m\"style\"\u001B[0m\u001B[1;33m)\u001B[0m\u001B[1;33m.\u001B[0m\u001B[0msplit\u001B[0m\u001B[1;33m(\u001B[0m\u001B[1;34m\"; \"\u001B[0m\u001B[1;33m)\u001B[0m\u001B[1;33m[\u001B[0m\u001B[1;33m-\u001B[0m\u001B[1;36m1\u001B[0m\u001B[1;33m]\u001B[0m\u001B[1;33m\u001B[0m\u001B[1;33m\u001B[0m\u001B[0m\n\u001B[0m\u001B[0;32m     21\u001B[0m         \u001B[0mduration_tag\u001B[0m \u001B[1;33m=\u001B[0m \u001B[0mint\u001B[0m\u001B[1;33m(\u001B[0m\u001B[0mre\u001B[0m\u001B[1;33m.\u001B[0m\u001B[0mfindall\u001B[0m\u001B[1;33m(\u001B[0m\u001B[1;34mr'\\d+'\u001B[0m\u001B[1;33m,\u001B[0m \u001B[0mheigh_tag\u001B[0m\u001B[1;33m)\u001B[0m\u001B[1;33m[\u001B[0m\u001B[1;36m0\u001B[0m\u001B[1;33m]\u001B[0m\u001B[1;33m)\u001B[0m\u001B[1;33m\u001B[0m\u001B[1;33m\u001B[0m\u001B[0m\n\u001B[0;32m     22\u001B[0m         \u001B[0mreal_duration\u001B[0m \u001B[1;33m=\u001B[0m \u001B[0mduration\u001B[0m\u001B[1;33m[\u001B[0m\u001B[0mduration_tag\u001B[0m\u001B[1;33m]\u001B[0m\u001B[1;33m\u001B[0m\u001B[1;33m\u001B[0m\u001B[0m\n",
      "\u001B[1;32m~\\anaconda3\\envs\\py39\\lib\\site-packages\\selenium\\webdriver\\remote\\webelement.py\u001B[0m in \u001B[0;36mget_attribute\u001B[1;34m(self, name)\u001B[0m\n\u001B[0;32m    137\u001B[0m         \u001B[0mattributeValue\u001B[0m \u001B[1;33m=\u001B[0m \u001B[1;34m''\u001B[0m\u001B[1;33m\u001B[0m\u001B[1;33m\u001B[0m\u001B[0m\n\u001B[0;32m    138\u001B[0m         \u001B[1;32mif\u001B[0m \u001B[0mself\u001B[0m\u001B[1;33m.\u001B[0m\u001B[0m_w3c\u001B[0m\u001B[1;33m:\u001B[0m\u001B[1;33m\u001B[0m\u001B[1;33m\u001B[0m\u001B[0m\n\u001B[1;32m--> 139\u001B[1;33m             attributeValue = self.parent.execute_script(\n\u001B[0m\u001B[0;32m    140\u001B[0m                 \u001B[1;34m\"return (%s).apply(null, arguments);\"\u001B[0m \u001B[1;33m%\u001B[0m \u001B[0mgetAttribute_js\u001B[0m\u001B[1;33m,\u001B[0m\u001B[1;33m\u001B[0m\u001B[1;33m\u001B[0m\u001B[0m\n\u001B[0;32m    141\u001B[0m                 self, name)\n",
      "\u001B[1;32m~\\anaconda3\\envs\\py39\\lib\\site-packages\\selenium\\webdriver\\remote\\webdriver.py\u001B[0m in \u001B[0;36mexecute_script\u001B[1;34m(self, script, *args)\u001B[0m\n\u001B[0;32m    632\u001B[0m             \u001B[0mcommand\u001B[0m \u001B[1;33m=\u001B[0m \u001B[0mCommand\u001B[0m\u001B[1;33m.\u001B[0m\u001B[0mEXECUTE_SCRIPT\u001B[0m\u001B[1;33m\u001B[0m\u001B[1;33m\u001B[0m\u001B[0m\n\u001B[0;32m    633\u001B[0m \u001B[1;33m\u001B[0m\u001B[0m\n\u001B[1;32m--> 634\u001B[1;33m         return self.execute(command, {\n\u001B[0m\u001B[0;32m    635\u001B[0m             \u001B[1;34m'script'\u001B[0m\u001B[1;33m:\u001B[0m \u001B[0mscript\u001B[0m\u001B[1;33m,\u001B[0m\u001B[1;33m\u001B[0m\u001B[1;33m\u001B[0m\u001B[0m\n\u001B[0;32m    636\u001B[0m             'args': converted_args})['value']\n",
      "\u001B[1;32m~\\anaconda3\\envs\\py39\\lib\\site-packages\\selenium\\webdriver\\remote\\webdriver.py\u001B[0m in \u001B[0;36mexecute\u001B[1;34m(self, driver_command, params)\u001B[0m\n\u001B[0;32m    319\u001B[0m         \u001B[0mresponse\u001B[0m \u001B[1;33m=\u001B[0m \u001B[0mself\u001B[0m\u001B[1;33m.\u001B[0m\u001B[0mcommand_executor\u001B[0m\u001B[1;33m.\u001B[0m\u001B[0mexecute\u001B[0m\u001B[1;33m(\u001B[0m\u001B[0mdriver_command\u001B[0m\u001B[1;33m,\u001B[0m \u001B[0mparams\u001B[0m\u001B[1;33m)\u001B[0m\u001B[1;33m\u001B[0m\u001B[1;33m\u001B[0m\u001B[0m\n\u001B[0;32m    320\u001B[0m         \u001B[1;32mif\u001B[0m \u001B[0mresponse\u001B[0m\u001B[1;33m:\u001B[0m\u001B[1;33m\u001B[0m\u001B[1;33m\u001B[0m\u001B[0m\n\u001B[1;32m--> 321\u001B[1;33m             \u001B[0mself\u001B[0m\u001B[1;33m.\u001B[0m\u001B[0merror_handler\u001B[0m\u001B[1;33m.\u001B[0m\u001B[0mcheck_response\u001B[0m\u001B[1;33m(\u001B[0m\u001B[0mresponse\u001B[0m\u001B[1;33m)\u001B[0m\u001B[1;33m\u001B[0m\u001B[1;33m\u001B[0m\u001B[0m\n\u001B[0m\u001B[0;32m    322\u001B[0m             response['value'] = self._unwrap_value(\n\u001B[0;32m    323\u001B[0m                 response.get('value', None))\n",
      "\u001B[1;32m~\\anaconda3\\envs\\py39\\lib\\site-packages\\selenium\\webdriver\\remote\\errorhandler.py\u001B[0m in \u001B[0;36mcheck_response\u001B[1;34m(self, response)\u001B[0m\n\u001B[0;32m    240\u001B[0m                 \u001B[0malert_text\u001B[0m \u001B[1;33m=\u001B[0m \u001B[0mvalue\u001B[0m\u001B[1;33m[\u001B[0m\u001B[1;34m'alert'\u001B[0m\u001B[1;33m]\u001B[0m\u001B[1;33m.\u001B[0m\u001B[0mget\u001B[0m\u001B[1;33m(\u001B[0m\u001B[1;34m'text'\u001B[0m\u001B[1;33m)\u001B[0m\u001B[1;33m\u001B[0m\u001B[1;33m\u001B[0m\u001B[0m\n\u001B[0;32m    241\u001B[0m             \u001B[1;32mraise\u001B[0m \u001B[0mexception_class\u001B[0m\u001B[1;33m(\u001B[0m\u001B[0mmessage\u001B[0m\u001B[1;33m,\u001B[0m \u001B[0mscreen\u001B[0m\u001B[1;33m,\u001B[0m \u001B[0mstacktrace\u001B[0m\u001B[1;33m,\u001B[0m \u001B[0malert_text\u001B[0m\u001B[1;33m)\u001B[0m\u001B[1;33m\u001B[0m\u001B[1;33m\u001B[0m\u001B[0m\n\u001B[1;32m--> 242\u001B[1;33m         \u001B[1;32mraise\u001B[0m \u001B[0mexception_class\u001B[0m\u001B[1;33m(\u001B[0m\u001B[0mmessage\u001B[0m\u001B[1;33m,\u001B[0m \u001B[0mscreen\u001B[0m\u001B[1;33m,\u001B[0m \u001B[0mstacktrace\u001B[0m\u001B[1;33m)\u001B[0m\u001B[1;33m\u001B[0m\u001B[1;33m\u001B[0m\u001B[0m\n\u001B[0m\u001B[0;32m    243\u001B[0m \u001B[1;33m\u001B[0m\u001B[0m\n\u001B[0;32m    244\u001B[0m     \u001B[1;32mdef\u001B[0m \u001B[0m_value_or_default\u001B[0m\u001B[1;33m(\u001B[0m\u001B[0mself\u001B[0m\u001B[1;33m,\u001B[0m \u001B[0mobj\u001B[0m\u001B[1;33m,\u001B[0m \u001B[0mkey\u001B[0m\u001B[1;33m,\u001B[0m \u001B[0mdefault\u001B[0m\u001B[1;33m)\u001B[0m\u001B[1;33m:\u001B[0m\u001B[1;33m\u001B[0m\u001B[1;33m\u001B[0m\u001B[0m\n",
      "\u001B[1;31mStaleElementReferenceException\u001B[0m: Message: stale element reference: element is not attached to the page document\n  (Session info: MicrosoftEdge=99.0.1150.46)\n"
     ]
    }
   ],
   "source": [
    "cal = Calendar()\n",
    "today = date.today()\n",
    "current = today - timedelta(days=today.weekday())\n",
    "current_week = today.isocalendar().week\n",
    "current_top = 0\n",
    "\n",
    "duration = {\n",
    "    57: [1, 0],\n",
    "    112: [2, 0],\n",
    "    168: [3, 0],\n",
    "    167: [3, 0]\n",
    "}\n",
    "\n",
    "for _ in range(4):\n",
    "    planning = driver.find_element_by_id(\"Planning\")\n",
    "    planning_div = planning.find_elements_by_xpath(\"./*\")\n",
    "    planning_data = planning.find_elements_by_xpath(\"//div[@aria-owns='Planning']\")\n",
    "\n",
    "    for div, data in zip(planning_div, planning_data):\n",
    "        heigh_tag = div.find_element_by_tag_name(\"table\").get_attribute(\"style\").split(\"; \")[-1]\n",
    "        duration_tag = int(re.findall(r'\\d+', heigh_tag)[0])\n",
    "        real_duration = duration[duration_tag]\n",
    "\n",
    "        top = div.get_attribute(\"style\").split(\"; \")[-1]\n",
    "        top_nb = int(re.findall(r'\\d+', top)[0])\n",
    "        list_data = [x.strip() for x in list(filter(lambda x: x.replace(\" \", \"\") != \"\", data.get_attribute(\"aria-label\").split('null')))]\n",
    "\n",
    "        if current_top > top_nb:\n",
    "            current = current + timedelta(days=1)\n",
    "        current_top = top_nb\n",
    "\n",
    "        year = current.year\n",
    "        month = current.month\n",
    "        day = current.day\n",
    "\n",
    "        hour_class = hours[top_nb].split(\"h\")\n",
    "        event = Event()\n",
    "        event.add('summary', list_data[0])\n",
    "        event.add('dtstart', datetime(year, month, day, int(hour_class[0]), int(hour_class[1])))\n",
    "\n",
    "        duration_mins = int(hour_class[1])+real_duration[1]\n",
    "        duration_hours = int(hour_class[0])+real_duration[0]\n",
    "\n",
    "        if duration_mins == 60:\n",
    "            duration_hours+=1\n",
    "            duration_mins=0\n",
    "\n",
    "        event.add('dtend', datetime(year, month, day, duration_hours, duration_mins))\n",
    "\n",
    "        if len(list_data) in [4, 5]:\n",
    "            event['location'] = vText(list_data[1])\n",
    "        else:\n",
    "            event['location'] = vText('Inconnu')\n",
    "        # Adding events to calendar\n",
    "        cal.add_component(event)\n",
    "\n",
    "\n",
    "    current_week+=1\n",
    "    next_week = current + timedelta(days=3)\n",
    "    next_day = next_week.strftime('%d')\n",
    "    next_month = month_french[next_week.strftime('%B')]\n",
    "    next_year = next_week.strftime('%y')\n",
    "    next_week_str = f'({current_week}){next_day} {next_month} {next_year}'\n",
    "    button_week = driver.find_element_by_xpath(f\"//button[text()='{next_week_str}']\")\n",
    "    button_week.click()"
   ],
   "metadata": {
    "collapsed": false,
    "pycharm": {
     "name": "#%%\n"
    }
   }
  },
  {
   "cell_type": "code",
   "execution_count": 25,
   "outputs": [],
   "source": [
    "f = open(os.path.join(\"./\", 'example.ics'), 'wb')\n",
    "f.write(cal.to_ical())\n",
    "f.close()"
   ],
   "metadata": {
    "collapsed": false,
    "pycharm": {
     "name": "#%%\n"
    }
   }
  }
 ],
 "metadata": {
  "kernelspec": {
   "display_name": "Python 3",
   "language": "python",
   "name": "python3"
  },
  "language_info": {
   "codemirror_mode": {
    "name": "ipython",
    "version": 2
   },
   "file_extension": ".py",
   "mimetype": "text/x-python",
   "name": "python",
   "nbconvert_exporter": "python",
   "pygments_lexer": "ipython2",
   "version": "2.7.6"
  }
 },
 "nbformat": 4,
 "nbformat_minor": 0
}